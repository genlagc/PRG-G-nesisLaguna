{
 "cells": [
  {
   "cell_type": "markdown",
   "id": "ef45eb50-eef3-4f27-92c3-19f522c4a9d4",
   "metadata": {},
   "source": [
    "# Descripción "
   ]
  },
  {
   "cell_type": "markdown",
   "id": "bd2ec1b6-0dca-4c3b-a112-3ec371128ef3",
   "metadata": {},
   "source": [
    "En este cuarto trabajo desarrollarás un proyecto de analítica de datos, usando técnicas de aprendizaje supervisado. Podrás trabajar con un problema de clasificación o con uno de regresión, pero\n",
    "debe ser un problema de ingeniería real."
   ]
  },
  {
   "cell_type": "markdown",
   "id": "cd00637f-b7fb-4776-90ab-31aee33405cd",
   "metadata": {},
   "source": [
    "Para  este ejercicio decidí utilizar un conjunto de datos de UR3 CobotOps del repositorio UCI Machine Learning Repository sobre el aprendizaje automático de sistemas robóticos y de automatización,en aplivcaciones de robótica industrial para la detección de fallas y optimización operativa. Este dataset compara las siguientes variables: \n",
    "- Corrientes eléctricas\n",
    "- Temperaturas\n",
    "- Velocidades en las juntas \n",
    "- Corriente de agarre\n",
    "- Recuento de ciclos de operación\n",
    "- Paradas de protección \n",
    "- Pérdidas de agarre"
   ]
  },
  {
   "cell_type": "code",
   "execution_count": 2,
   "id": "e4b53509-9676-4bd8-b479-fe8857a7b1b4",
   "metadata": {},
   "outputs": [],
   "source": [
    "#Importamos librería\n",
    "import pandas as pd\n",
    "import numpy as np\n",
    "import matplotlib.pyplot as plt\n",
    "import seaborn as sns\n",
    "from sklearn.preprocessing import StandardScaler\n",
    "from sklearn.preprocessing import MinMaxScaler\n",
    "sns.set_style('darkgrid')"
   ]
  },
  {
   "cell_type": "code",
   "execution_count": 8,
   "id": "07887971-c05c-4ad1-b83b-de4965eabb46",
   "metadata": {},
   "outputs": [
    {
     "data": {
      "text/html": [
       "<div>\n",
       "<style scoped>\n",
       "    .dataframe tbody tr th:only-of-type {\n",
       "        vertical-align: middle;\n",
       "    }\n",
       "\n",
       "    .dataframe tbody tr th {\n",
       "        vertical-align: top;\n",
       "    }\n",
       "\n",
       "    .dataframe thead th {\n",
       "        text-align: right;\n",
       "    }\n",
       "</style>\n",
       "<table border=\"1\" class=\"dataframe\">\n",
       "  <thead>\n",
       "    <tr style=\"text-align: right;\">\n",
       "      <th></th>\n",
       "      <th>Num</th>\n",
       "      <th>Timestamp</th>\n",
       "      <th>Current_J0</th>\n",
       "      <th>Temperature_T0</th>\n",
       "      <th>Current_J1</th>\n",
       "      <th>Temperature_J1</th>\n",
       "      <th>Current_J2</th>\n",
       "      <th>Temperature_J2</th>\n",
       "      <th>Current_J3</th>\n",
       "      <th>Temperature_J3</th>\n",
       "      <th>...</th>\n",
       "      <th>Unnamed: 25</th>\n",
       "      <th>Unnamed: 26</th>\n",
       "      <th>Unnamed: 27</th>\n",
       "      <th>Unnamed: 28</th>\n",
       "      <th>Unnamed: 29</th>\n",
       "      <th>Unnamed: 30</th>\n",
       "      <th>Unnamed: 31</th>\n",
       "      <th>Unnamed: 32</th>\n",
       "      <th>Unnamed: 33</th>\n",
       "      <th>Unnamed: 34</th>\n",
       "    </tr>\n",
       "  </thead>\n",
       "  <tbody>\n",
       "    <tr>\n",
       "      <th>0</th>\n",
       "      <td>1</td>\n",
       "      <td>2022-10-26T08:17:21.847Z</td>\n",
       "      <td>0.109628</td>\n",
       "      <td>27.875</td>\n",
       "      <td>-2.024669</td>\n",
       "      <td>29.3750</td>\n",
       "      <td>-1.531442</td>\n",
       "      <td>29.3750</td>\n",
       "      <td>-0.998570</td>\n",
       "      <td>32.1250</td>\n",
       "      <td>...</td>\n",
       "      <td>NaN</td>\n",
       "      <td>NaN</td>\n",
       "      <td>NaN</td>\n",
       "      <td>NaN</td>\n",
       "      <td>NaN</td>\n",
       "      <td>NaN</td>\n",
       "      <td>NaN</td>\n",
       "      <td>NaN</td>\n",
       "      <td>NaN</td>\n",
       "      <td>NaN</td>\n",
       "    </tr>\n",
       "    <tr>\n",
       "      <th>1</th>\n",
       "      <td>2</td>\n",
       "      <td>2022-10-26T08:17:22.852Z</td>\n",
       "      <td>0.595605</td>\n",
       "      <td>27.875</td>\n",
       "      <td>-2.278456</td>\n",
       "      <td>29.3125</td>\n",
       "      <td>-0.866556</td>\n",
       "      <td>29.4375</td>\n",
       "      <td>-0.206097</td>\n",
       "      <td>32.1875</td>\n",
       "      <td>...</td>\n",
       "      <td>NaN</td>\n",
       "      <td>NaN</td>\n",
       "      <td>NaN</td>\n",
       "      <td>NaN</td>\n",
       "      <td>NaN</td>\n",
       "      <td>NaN</td>\n",
       "      <td>NaN</td>\n",
       "      <td>NaN</td>\n",
       "      <td>NaN</td>\n",
       "      <td>NaN</td>\n",
       "    </tr>\n",
       "    <tr>\n",
       "      <th>2</th>\n",
       "      <td>3</td>\n",
       "      <td>2022-10-26T08:17:23.857Z</td>\n",
       "      <td>-0.229474</td>\n",
       "      <td>27.875</td>\n",
       "      <td>-2.800408</td>\n",
       "      <td>29.3125</td>\n",
       "      <td>-2.304336</td>\n",
       "      <td>29.4375</td>\n",
       "      <td>-0.351499</td>\n",
       "      <td>32.1250</td>\n",
       "      <td>...</td>\n",
       "      <td>NaN</td>\n",
       "      <td>NaN</td>\n",
       "      <td>NaN</td>\n",
       "      <td>NaN</td>\n",
       "      <td>NaN</td>\n",
       "      <td>NaN</td>\n",
       "      <td>NaN</td>\n",
       "      <td>NaN</td>\n",
       "      <td>NaN</td>\n",
       "      <td>NaN</td>\n",
       "    </tr>\n",
       "    <tr>\n",
       "      <th>3</th>\n",
       "      <td>4</td>\n",
       "      <td>2022-10-26T08:17:24.863Z</td>\n",
       "      <td>0.065053</td>\n",
       "      <td>27.875</td>\n",
       "      <td>-3.687768</td>\n",
       "      <td>29.3125</td>\n",
       "      <td>-1.217652</td>\n",
       "      <td>29.4375</td>\n",
       "      <td>-1.209115</td>\n",
       "      <td>32.1250</td>\n",
       "      <td>...</td>\n",
       "      <td>NaN</td>\n",
       "      <td>NaN</td>\n",
       "      <td>NaN</td>\n",
       "      <td>NaN</td>\n",
       "      <td>NaN</td>\n",
       "      <td>NaN</td>\n",
       "      <td>NaN</td>\n",
       "      <td>NaN</td>\n",
       "      <td>NaN</td>\n",
       "      <td>NaN</td>\n",
       "    </tr>\n",
       "    <tr>\n",
       "      <th>4</th>\n",
       "      <td>5</td>\n",
       "      <td>2022-10-26T08:17:25.877Z</td>\n",
       "      <td>0.884140</td>\n",
       "      <td>27.875</td>\n",
       "      <td>-2.938830</td>\n",
       "      <td>29.3750</td>\n",
       "      <td>-1.794076</td>\n",
       "      <td>29.4375</td>\n",
       "      <td>-2.356471</td>\n",
       "      <td>32.1875</td>\n",
       "      <td>...</td>\n",
       "      <td>NaN</td>\n",
       "      <td>NaN</td>\n",
       "      <td>NaN</td>\n",
       "      <td>NaN</td>\n",
       "      <td>NaN</td>\n",
       "      <td>NaN</td>\n",
       "      <td>NaN</td>\n",
       "      <td>NaN</td>\n",
       "      <td>NaN</td>\n",
       "      <td>NaN</td>\n",
       "    </tr>\n",
       "  </tbody>\n",
       "</table>\n",
       "<p>5 rows × 35 columns</p>\n",
       "</div>"
      ],
      "text/plain": [
       "   Num                 Timestamp  Current_J0  Temperature_T0  Current_J1  \\\n",
       "0    1  2022-10-26T08:17:21.847Z    0.109628          27.875   -2.024669   \n",
       "1    2  2022-10-26T08:17:22.852Z    0.595605          27.875   -2.278456   \n",
       "2    3  2022-10-26T08:17:23.857Z   -0.229474          27.875   -2.800408   \n",
       "3    4  2022-10-26T08:17:24.863Z    0.065053          27.875   -3.687768   \n",
       "4    5  2022-10-26T08:17:25.877Z    0.884140          27.875   -2.938830   \n",
       "\n",
       "   Temperature_J1  Current_J2  Temperature_J2  Current_J3  Temperature_J3  \\\n",
       "0         29.3750   -1.531442         29.3750   -0.998570         32.1250   \n",
       "1         29.3125   -0.866556         29.4375   -0.206097         32.1875   \n",
       "2         29.3125   -2.304336         29.4375   -0.351499         32.1250   \n",
       "3         29.3125   -1.217652         29.4375   -1.209115         32.1250   \n",
       "4         29.3750   -1.794076         29.4375   -2.356471         32.1875   \n",
       "\n",
       "   ...  Unnamed: 25  Unnamed: 26  Unnamed: 27  Unnamed: 28  Unnamed: 29  \\\n",
       "0  ...          NaN          NaN          NaN          NaN          NaN   \n",
       "1  ...          NaN          NaN          NaN          NaN          NaN   \n",
       "2  ...          NaN          NaN          NaN          NaN          NaN   \n",
       "3  ...          NaN          NaN          NaN          NaN          NaN   \n",
       "4  ...          NaN          NaN          NaN          NaN          NaN   \n",
       "\n",
       "   Unnamed: 30  Unnamed: 31  Unnamed: 32  Unnamed: 33  Unnamed: 34  \n",
       "0          NaN          NaN          NaN          NaN          NaN  \n",
       "1          NaN          NaN          NaN          NaN          NaN  \n",
       "2          NaN          NaN          NaN          NaN          NaN  \n",
       "3          NaN          NaN          NaN          NaN          NaN  \n",
       "4          NaN          NaN          NaN          NaN          NaN  \n",
       "\n",
       "[5 rows x 35 columns]"
      ]
     },
     "execution_count": 8,
     "metadata": {},
     "output_type": "execute_result"
    }
   ],
   "source": [
    "#Cargar datos\n",
    "df = pd.read_csv('C:/Users/EQUIPO/Desktop/dataset_02052023.csv')\n",
    "df.head()"
   ]
  },
  {
   "cell_type": "code",
   "execution_count": 9,
   "id": "38c814ce-f6f9-4adb-aa15-207685cf7dc1",
   "metadata": {},
   "outputs": [
    {
     "name": "stdout",
     "output_type": "stream",
     "text": [
      "<class 'pandas.core.frame.DataFrame'>\n",
      "RangeIndex: 7409 entries, 0 to 7408\n",
      "Data columns (total 35 columns):\n",
      " #   Column                Non-Null Count  Dtype  \n",
      "---  ------                --------------  -----  \n",
      " 0   Num                   7409 non-null   int64  \n",
      " 1   Timestamp             7409 non-null   object \n",
      " 2   Current_J0            7363 non-null   float64\n",
      " 3   Temperature_T0        7355 non-null   float64\n",
      " 4   Current_J1            7355 non-null   float64\n",
      " 5   Temperature_J1        7355 non-null   float64\n",
      " 6   Current_J2            7355 non-null   float64\n",
      " 7   Temperature_J2        7355 non-null   float64\n",
      " 8   Current_J3            7355 non-null   float64\n",
      " 9   Temperature_J3        7355 non-null   float64\n",
      " 10  Current_J4            7355 non-null   float64\n",
      " 11  Temperature_J4        7355 non-null   float64\n",
      " 12  Current_J5            7355 non-null   float64\n",
      " 13  Temperature_J5        7355 non-null   float64\n",
      " 14  Speed_J0              7355 non-null   float64\n",
      " 15  Speed_J1              7355 non-null   float64\n",
      " 16  Speed_J2              7355 non-null   float64\n",
      " 17  Speed_J3              7355 non-null   float64\n",
      " 18  Speed_J4              7355 non-null   float64\n",
      " 19  Speed_J5              7355 non-null   float64\n",
      " 20  Tool_current          7355 non-null   float64\n",
      " 21  cycle                 7409 non-null   int64  \n",
      " 22  Robot_ProtectiveStop  278 non-null    float64\n",
      " 23  grip_lost             243 non-null    float64\n",
      " 24  Unnamed: 24           0 non-null      float64\n",
      " 25  Unnamed: 25           0 non-null      float64\n",
      " 26  Unnamed: 26           0 non-null      float64\n",
      " 27  Unnamed: 27           0 non-null      float64\n",
      " 28  Unnamed: 28           0 non-null      float64\n",
      " 29  Unnamed: 29           0 non-null      float64\n",
      " 30  Unnamed: 30           0 non-null      float64\n",
      " 31  Unnamed: 31           0 non-null      float64\n",
      " 32  Unnamed: 32           0 non-null      float64\n",
      " 33  Unnamed: 33           0 non-null      float64\n",
      " 34  Unnamed: 34           0 non-null      float64\n",
      "dtypes: float64(32), int64(2), object(1)\n",
      "memory usage: 2.0+ MB\n"
     ]
    }
   ],
   "source": [
    "#Visualizamos los datos\n",
    "df.info()"
   ]
  },
  {
   "cell_type": "code",
   "execution_count": 10,
   "id": "66787824-17b2-4576-aa11-6b29579b8aba",
   "metadata": {},
   "outputs": [
    {
     "data": {
      "text/html": [
       "<div>\n",
       "<style scoped>\n",
       "    .dataframe tbody tr th:only-of-type {\n",
       "        vertical-align: middle;\n",
       "    }\n",
       "\n",
       "    .dataframe tbody tr th {\n",
       "        vertical-align: top;\n",
       "    }\n",
       "\n",
       "    .dataframe thead th {\n",
       "        text-align: right;\n",
       "    }\n",
       "</style>\n",
       "<table border=\"1\" class=\"dataframe\">\n",
       "  <thead>\n",
       "    <tr style=\"text-align: right;\">\n",
       "      <th></th>\n",
       "      <th>Num</th>\n",
       "      <th>Current_J0</th>\n",
       "      <th>Temperature_T0</th>\n",
       "      <th>Current_J1</th>\n",
       "      <th>Temperature_J1</th>\n",
       "      <th>Current_J2</th>\n",
       "      <th>Temperature_J2</th>\n",
       "      <th>Current_J3</th>\n",
       "      <th>Temperature_J3</th>\n",
       "      <th>Current_J4</th>\n",
       "      <th>...</th>\n",
       "      <th>Unnamed: 25</th>\n",
       "      <th>Unnamed: 26</th>\n",
       "      <th>Unnamed: 27</th>\n",
       "      <th>Unnamed: 28</th>\n",
       "      <th>Unnamed: 29</th>\n",
       "      <th>Unnamed: 30</th>\n",
       "      <th>Unnamed: 31</th>\n",
       "      <th>Unnamed: 32</th>\n",
       "      <th>Unnamed: 33</th>\n",
       "      <th>Unnamed: 34</th>\n",
       "    </tr>\n",
       "  </thead>\n",
       "  <tbody>\n",
       "    <tr>\n",
       "      <th>count</th>\n",
       "      <td>7409.000000</td>\n",
       "      <td>7363.000000</td>\n",
       "      <td>7355.000000</td>\n",
       "      <td>7355.000000</td>\n",
       "      <td>7355.000000</td>\n",
       "      <td>7355.000000</td>\n",
       "      <td>7355.000000</td>\n",
       "      <td>7355.000000</td>\n",
       "      <td>7355.000000</td>\n",
       "      <td>7355.000000</td>\n",
       "      <td>...</td>\n",
       "      <td>0.0</td>\n",
       "      <td>0.0</td>\n",
       "      <td>0.0</td>\n",
       "      <td>0.0</td>\n",
       "      <td>0.0</td>\n",
       "      <td>0.0</td>\n",
       "      <td>0.0</td>\n",
       "      <td>0.0</td>\n",
       "      <td>0.0</td>\n",
       "      <td>0.0</td>\n",
       "    </tr>\n",
       "    <tr>\n",
       "      <th>mean</th>\n",
       "      <td>3705.000000</td>\n",
       "      <td>-0.048934</td>\n",
       "      <td>34.906781</td>\n",
       "      <td>-2.297936</td>\n",
       "      <td>37.659636</td>\n",
       "      <td>-1.199381</td>\n",
       "      <td>38.064064</td>\n",
       "      <td>-0.605312</td>\n",
       "      <td>40.936999</td>\n",
       "      <td>-0.022968</td>\n",
       "      <td>...</td>\n",
       "      <td>NaN</td>\n",
       "      <td>NaN</td>\n",
       "      <td>NaN</td>\n",
       "      <td>NaN</td>\n",
       "      <td>NaN</td>\n",
       "      <td>NaN</td>\n",
       "      <td>NaN</td>\n",
       "      <td>NaN</td>\n",
       "      <td>NaN</td>\n",
       "      <td>NaN</td>\n",
       "    </tr>\n",
       "    <tr>\n",
       "      <th>std</th>\n",
       "      <td>2138.938405</td>\n",
       "      <td>0.829395</td>\n",
       "      <td>2.762057</td>\n",
       "      <td>0.800450</td>\n",
       "      <td>3.247315</td>\n",
       "      <td>0.609984</td>\n",
       "      <td>3.311948</td>\n",
       "      <td>0.514937</td>\n",
       "      <td>3.182399</td>\n",
       "      <td>0.630789</td>\n",
       "      <td>...</td>\n",
       "      <td>NaN</td>\n",
       "      <td>NaN</td>\n",
       "      <td>NaN</td>\n",
       "      <td>NaN</td>\n",
       "      <td>NaN</td>\n",
       "      <td>NaN</td>\n",
       "      <td>NaN</td>\n",
       "      <td>NaN</td>\n",
       "      <td>NaN</td>\n",
       "      <td>NaN</td>\n",
       "    </tr>\n",
       "    <tr>\n",
       "      <th>min</th>\n",
       "      <td>1.000000</td>\n",
       "      <td>-6.247756</td>\n",
       "      <td>27.812500</td>\n",
       "      <td>-5.808734</td>\n",
       "      <td>29.312500</td>\n",
       "      <td>-4.171966</td>\n",
       "      <td>29.375000</td>\n",
       "      <td>-3.333102</td>\n",
       "      <td>32.125000</td>\n",
       "      <td>-4.738406</td>\n",
       "      <td>...</td>\n",
       "      <td>NaN</td>\n",
       "      <td>NaN</td>\n",
       "      <td>NaN</td>\n",
       "      <td>NaN</td>\n",
       "      <td>NaN</td>\n",
       "      <td>NaN</td>\n",
       "      <td>NaN</td>\n",
       "      <td>NaN</td>\n",
       "      <td>NaN</td>\n",
       "      <td>NaN</td>\n",
       "    </tr>\n",
       "    <tr>\n",
       "      <th>25%</th>\n",
       "      <td>1853.000000</td>\n",
       "      <td>-0.195026</td>\n",
       "      <td>33.000000</td>\n",
       "      <td>-2.664919</td>\n",
       "      <td>35.375000</td>\n",
       "      <td>-1.552803</td>\n",
       "      <td>35.750000</td>\n",
       "      <td>-0.830933</td>\n",
       "      <td>38.937500</td>\n",
       "      <td>-0.125809</td>\n",
       "      <td>...</td>\n",
       "      <td>NaN</td>\n",
       "      <td>NaN</td>\n",
       "      <td>NaN</td>\n",
       "      <td>NaN</td>\n",
       "      <td>NaN</td>\n",
       "      <td>NaN</td>\n",
       "      <td>NaN</td>\n",
       "      <td>NaN</td>\n",
       "      <td>NaN</td>\n",
       "      <td>NaN</td>\n",
       "    </tr>\n",
       "    <tr>\n",
       "      <th>50%</th>\n",
       "      <td>3705.000000</td>\n",
       "      <td>-0.080830</td>\n",
       "      <td>36.500000</td>\n",
       "      <td>-2.236342</td>\n",
       "      <td>39.687500</td>\n",
       "      <td>-1.077137</td>\n",
       "      <td>40.187500</td>\n",
       "      <td>-0.571190</td>\n",
       "      <td>43.062500</td>\n",
       "      <td>-0.012325</td>\n",
       "      <td>...</td>\n",
       "      <td>NaN</td>\n",
       "      <td>NaN</td>\n",
       "      <td>NaN</td>\n",
       "      <td>NaN</td>\n",
       "      <td>NaN</td>\n",
       "      <td>NaN</td>\n",
       "      <td>NaN</td>\n",
       "      <td>NaN</td>\n",
       "      <td>NaN</td>\n",
       "      <td>NaN</td>\n",
       "    </tr>\n",
       "    <tr>\n",
       "      <th>75%</th>\n",
       "      <td>5557.000000</td>\n",
       "      <td>0.095959</td>\n",
       "      <td>37.062500</td>\n",
       "      <td>-1.778334</td>\n",
       "      <td>40.125000</td>\n",
       "      <td>-0.838721</td>\n",
       "      <td>40.437500</td>\n",
       "      <td>-0.388398</td>\n",
       "      <td>43.125000</td>\n",
       "      <td>0.086098</td>\n",
       "      <td>...</td>\n",
       "      <td>NaN</td>\n",
       "      <td>NaN</td>\n",
       "      <td>NaN</td>\n",
       "      <td>NaN</td>\n",
       "      <td>NaN</td>\n",
       "      <td>NaN</td>\n",
       "      <td>NaN</td>\n",
       "      <td>NaN</td>\n",
       "      <td>NaN</td>\n",
       "      <td>NaN</td>\n",
       "    </tr>\n",
       "    <tr>\n",
       "      <th>max</th>\n",
       "      <td>7409.000000</td>\n",
       "      <td>6.806938</td>\n",
       "      <td>37.250000</td>\n",
       "      <td>1.083596</td>\n",
       "      <td>40.500000</td>\n",
       "      <td>2.464940</td>\n",
       "      <td>40.937500</td>\n",
       "      <td>2.270268</td>\n",
       "      <td>43.437500</td>\n",
       "      <td>4.089389</td>\n",
       "      <td>...</td>\n",
       "      <td>NaN</td>\n",
       "      <td>NaN</td>\n",
       "      <td>NaN</td>\n",
       "      <td>NaN</td>\n",
       "      <td>NaN</td>\n",
       "      <td>NaN</td>\n",
       "      <td>NaN</td>\n",
       "      <td>NaN</td>\n",
       "      <td>NaN</td>\n",
       "      <td>NaN</td>\n",
       "    </tr>\n",
       "  </tbody>\n",
       "</table>\n",
       "<p>8 rows × 34 columns</p>\n",
       "</div>"
      ],
      "text/plain": [
       "               Num   Current_J0  Temperature_T0   Current_J1  Temperature_J1  \\\n",
       "count  7409.000000  7363.000000     7355.000000  7355.000000     7355.000000   \n",
       "mean   3705.000000    -0.048934       34.906781    -2.297936       37.659636   \n",
       "std    2138.938405     0.829395        2.762057     0.800450        3.247315   \n",
       "min       1.000000    -6.247756       27.812500    -5.808734       29.312500   \n",
       "25%    1853.000000    -0.195026       33.000000    -2.664919       35.375000   \n",
       "50%    3705.000000    -0.080830       36.500000    -2.236342       39.687500   \n",
       "75%    5557.000000     0.095959       37.062500    -1.778334       40.125000   \n",
       "max    7409.000000     6.806938       37.250000     1.083596       40.500000   \n",
       "\n",
       "        Current_J2  Temperature_J2   Current_J3  Temperature_J3   Current_J4  \\\n",
       "count  7355.000000     7355.000000  7355.000000     7355.000000  7355.000000   \n",
       "mean     -1.199381       38.064064    -0.605312       40.936999    -0.022968   \n",
       "std       0.609984        3.311948     0.514937        3.182399     0.630789   \n",
       "min      -4.171966       29.375000    -3.333102       32.125000    -4.738406   \n",
       "25%      -1.552803       35.750000    -0.830933       38.937500    -0.125809   \n",
       "50%      -1.077137       40.187500    -0.571190       43.062500    -0.012325   \n",
       "75%      -0.838721       40.437500    -0.388398       43.125000     0.086098   \n",
       "max       2.464940       40.937500     2.270268       43.437500     4.089389   \n",
       "\n",
       "       ...  Unnamed: 25  Unnamed: 26  Unnamed: 27  Unnamed: 28  Unnamed: 29  \\\n",
       "count  ...          0.0          0.0          0.0          0.0          0.0   \n",
       "mean   ...          NaN          NaN          NaN          NaN          NaN   \n",
       "std    ...          NaN          NaN          NaN          NaN          NaN   \n",
       "min    ...          NaN          NaN          NaN          NaN          NaN   \n",
       "25%    ...          NaN          NaN          NaN          NaN          NaN   \n",
       "50%    ...          NaN          NaN          NaN          NaN          NaN   \n",
       "75%    ...          NaN          NaN          NaN          NaN          NaN   \n",
       "max    ...          NaN          NaN          NaN          NaN          NaN   \n",
       "\n",
       "       Unnamed: 30  Unnamed: 31  Unnamed: 32  Unnamed: 33  Unnamed: 34  \n",
       "count          0.0          0.0          0.0          0.0          0.0  \n",
       "mean           NaN          NaN          NaN          NaN          NaN  \n",
       "std            NaN          NaN          NaN          NaN          NaN  \n",
       "min            NaN          NaN          NaN          NaN          NaN  \n",
       "25%            NaN          NaN          NaN          NaN          NaN  \n",
       "50%            NaN          NaN          NaN          NaN          NaN  \n",
       "75%            NaN          NaN          NaN          NaN          NaN  \n",
       "max            NaN          NaN          NaN          NaN          NaN  \n",
       "\n",
       "[8 rows x 34 columns]"
      ]
     },
     "execution_count": 10,
     "metadata": {},
     "output_type": "execute_result"
    }
   ],
   "source": [
    "#Identificamos variables numéricas\n",
    "df.describe()"
   ]
  },
  {
   "cell_type": "code",
   "execution_count": 50,
   "id": "8c17072c-f2db-4e69-82dc-3571edb276de",
   "metadata": {},
   "outputs": [
    {
     "data": {
      "text/html": [
       "<div>\n",
       "<style scoped>\n",
       "    .dataframe tbody tr th:only-of-type {\n",
       "        vertical-align: middle;\n",
       "    }\n",
       "\n",
       "    .dataframe tbody tr th {\n",
       "        vertical-align: top;\n",
       "    }\n",
       "\n",
       "    .dataframe thead th {\n",
       "        text-align: right;\n",
       "    }\n",
       "</style>\n",
       "<table border=\"1\" class=\"dataframe\">\n",
       "  <thead>\n",
       "    <tr style=\"text-align: right;\">\n",
       "      <th></th>\n",
       "      <th>Timestamp</th>\n",
       "    </tr>\n",
       "  </thead>\n",
       "  <tbody>\n",
       "    <tr>\n",
       "      <th>count</th>\n",
       "      <td>7409</td>\n",
       "    </tr>\n",
       "    <tr>\n",
       "      <th>unique</th>\n",
       "      <td>7409</td>\n",
       "    </tr>\n",
       "    <tr>\n",
       "      <th>top</th>\n",
       "      <td>2022-10-26T08:17:21.847Z</td>\n",
       "    </tr>\n",
       "    <tr>\n",
       "      <th>freq</th>\n",
       "      <td>1</td>\n",
       "    </tr>\n",
       "  </tbody>\n",
       "</table>\n",
       "</div>"
      ],
      "text/plain": [
       "                       Timestamp\n",
       "count                       7409\n",
       "unique                      7409\n",
       "top     2022-10-26T08:17:21.847Z\n",
       "freq                           1"
      ]
     },
     "execution_count": 50,
     "metadata": {},
     "output_type": "execute_result"
    }
   ],
   "source": [
    "#Identificamos variables categóricas\n",
    "df.describe(include=['object'])"
   ]
  },
  {
   "cell_type": "code",
   "execution_count": 11,
   "id": "df4a9a67-a954-4b46-91f7-40a224c9e7ba",
   "metadata": {},
   "outputs": [
    {
     "data": {
      "image/png": "[encoded data removed]",
      "text/plain": [
       "<Figure size 2000x2000 with 36 Axes>"
      ]
     },
     "metadata": {},
     "output_type": "display_data"
    }
   ],
   "source": [
    "df.hist(figsize=(20,20))\n",
    "plt.show()"
   ]
  },
  {
   "cell_type": "code",
   "execution_count": 13,
   "id": "b38b6836-4069-43e4-8773-0314a180e7c9",
   "metadata": {},
   "outputs": [
    {
     "name": "stdout",
     "output_type": "stream",
     "text": [
      "Media: -0.04893438721086364\n",
      "Mediana: -0.08082988858223\n",
      "Moda: 0    1.0\n",
      "Name: Current_J0, dtype: float64\n",
      "Sesgo: 0.03388798458661315\n",
      "Kurtosis: 22.98965317153077\n"
     ]
    }
   ],
   "source": [
    "mean = df['Current_J0'].mean() #media\n",
    "median = df['Current_J0'].median() #mediana\n",
    "mode = df['Current_J0'].mode() #moda\n",
    "skew = df['Current_J0'].skew() #sesgo\n",
    "kurt = df['Current_J0'].kurt() #curtosis\n",
    "\n",
    "#Imprimimos\n",
    "print(\"Media:\", mean)\n",
    "print(\"Mediana:\", median)\n",
    "print(\"Moda:\", mode)\n",
    "print(\"Sesgo:\", skew)\n",
    "print(\"Kurtosis:\", kurt)"
   ]
  },
  {
   "cell_type": "code",
   "execution_count": 14,
   "id": "ef06b10d-5604-49f3-a826-293991549e38",
   "metadata": {},
   "outputs": [
    {
     "name": "stdout",
     "output_type": "stream",
     "text": [
      "Media: 34.906781101291635\n",
      "Mediana: 36.5\n",
      "Moda: 0    37.125\n",
      "Name: Temperature_T0, dtype: float64\n",
      "Sesgo: -1.006933663283301\n",
      "Kurtosis: -0.31791090633027386\n"
     ]
    }
   ],
   "source": [
    "mean = df['Temperature_T0'].mean() #media\n",
    "median = df['Temperature_T0'].median() #mediana\n",
    "mode = df['Temperature_T0'].mode() #moda\n",
    "skew = df['Temperature_T0'].skew() #sesgo\n",
    "kurt = df['Temperature_T0'].kurt() #curtosis\n",
    "\n",
    "#Imprimimos\n",
    "print(\"Media:\", mean)\n",
    "print(\"Mediana:\", median)\n",
    "print(\"Moda:\", mode)\n",
    "print(\"Sesgo:\", skew)\n",
    "print(\"Kurtosis:\", kurt)"
   ]
  },
  {
   "cell_type": "code",
   "execution_count": 47,
   "id": "236bf467-f94d-4658-af99-32f710a0ac63",
   "metadata": {},
   "outputs": [
    {
     "name": "stdout",
     "output_type": "stream",
     "text": [
      "Media: -2.2979357523362425\n",
      "Mediana: -2.2363421916962\n",
      "Moda: 0      -5.808734\n",
      "1      -5.742628\n",
      "2      -5.664057\n",
      "3      -5.631962\n",
      "4      -5.620156\n",
      "          ...   \n",
      "7350    1.061292\n",
      "7351    1.073908\n",
      "7352    1.074096\n",
      "7353    1.074144\n",
      "7354    1.083596\n",
      "Name: Current_J1, Length: 7355, dtype: float64\n",
      "Sesgo: -0.5293371243465542\n",
      "Kurtosis: 2.864121832123197\n"
     ]
    }
   ],
   "source": [
    "mean = df['Current_J1'].mean() #media\n",
    "median = df['Current_J1'].median() #mediana\n",
    "mode = df['Current_J1'].mode() #moda\n",
    "skew = df['Current_J1'].skew() #sesgo\n",
    "kurt = df['Current_J1'].kurt() #curtosis\n",
    "\n",
    "#Imprimimos\n",
    "print(\"Media:\", mean)\n",
    "print(\"Mediana:\", median)\n",
    "print(\"Moda:\", mode)\n",
    "print(\"Sesgo:\", skew)\n",
    "print(\"Kurtosis:\", kurt)"
   ]
  },
  {
   "cell_type": "code",
   "execution_count": 17,
   "id": "a2657d6f-d053-42cc-900f-ebd3dc33e16b",
   "metadata": {},
   "outputs": [
    {
     "name": "stdout",
     "output_type": "stream",
     "text": [
      "Media: 37.659636301835484\n",
      "Mediana: 39.6875\n",
      "Moda: 0    40.3125\n",
      "Name: Temperature_J1, dtype: float64\n",
      "Sesgo: -1.0127409641776277\n",
      "Kurtosis: -0.32323676288143144\n"
     ]
    }
   ],
   "source": [
    "mean = df['Temperature_J1'].mean() #media\n",
    "median = df['Temperature_J1'].median() #mediana\n",
    "mode = df['Temperature_J1'].mode() #moda\n",
    "skew = df['Temperature_J1'].skew() #sesgo\n",
    "kurt = df['Temperature_J1'].kurt() #curtosis\n",
    "\n",
    "#Imprimimos\n",
    "print(\"Media:\", mean)\n",
    "print(\"Mediana:\", median)\n",
    "print(\"Moda:\", mode)\n",
    "print(\"Sesgo:\", skew)\n",
    "print(\"Kurtosis:\", kurt)"
   ]
  },
  {
   "cell_type": "code",
   "execution_count": 19,
   "id": "dc4d3f23-ebcf-49bb-b128-fe366c4a9e8b",
   "metadata": {},
   "outputs": [
    {
     "name": "stdout",
     "output_type": "stream",
     "text": [
      "Media: -1.199381182734288\n",
      "Mediana: -1.0771368741989\n",
      "Moda: 0   -1.147996\n",
      "1   -0.758322\n",
      "Name: Current_J2, dtype: float64\n",
      "Sesgo: -0.11192162440337039\n",
      "Kurtosis: 4.546727262089984\n"
     ]
    }
   ],
   "source": [
    "mean = df['Current_J2'].mean() #media\n",
    "median = df['Current_J2'].median() #mediana\n",
    "mode = df['Current_J2'].mode() #moda\n",
    "skew = df['Current_J2'].skew() #sesgo\n",
    "kurt = df['Current_J2'].kurt() #curtosis\n",
    "\n",
    "#Imprimimos\n",
    "print(\"Media:\", mean)\n",
    "print(\"Mediana:\", median)\n",
    "print(\"Moda:\", mode)\n",
    "print(\"Sesgo:\", skew)\n",
    "print(\"Kurtosis:\", kurt)"
   ]
  },
  {
   "cell_type": "code",
   "execution_count": 20,
   "id": "9f26ba78-aca3-4ae5-a155-19b836f2f8ab",
   "metadata": {},
   "outputs": [
    {
     "name": "stdout",
     "output_type": "stream",
     "text": [
      "Media: 38.064063562202584\n",
      "Mediana: 40.1875\n",
      "Moda: 0    40.375\n",
      "Name: Temperature_J2, dtype: float64\n",
      "Sesgo: -1.048101781800794\n",
      "Kurtosis: -0.23327495185934488\n"
     ]
    }
   ],
   "source": [
    "mean = df['Temperature_J2'].mean() #media\n",
    "median = df['Temperature_J2'].median() #mediana\n",
    "mode = df['Temperature_J2'].mode() #moda\n",
    "skew = df['Temperature_J2'].skew() #sesgo\n",
    "kurt = df['Temperature_J2'].kurt() #curtosis\n",
    "\n",
    "#Imprimimos\n",
    "print(\"Media:\", mean)\n",
    "print(\"Mediana:\", median)\n",
    "print(\"Moda:\", mode)\n",
    "print(\"Sesgo:\", skew)\n",
    "print(\"Kurtosis:\", kurt)"
   ]
  },
  {
   "cell_type": "code",
   "execution_count": 18,
   "id": "e5a19243-b9c1-4c22-8f18-7d81ab6e1880",
   "metadata": {},
   "outputs": [
    {
     "name": "stdout",
     "output_type": "stream",
     "text": [
      "Media: -0.605312371693448\n",
      "Mediana: -0.57118958234787\n",
      "Moda: 0   -0.651117\n",
      "Name: Current_J3, dtype: float64\n",
      "Sesgo: 0.38031937058458504\n",
      "Kurtosis: 4.733923214797235\n"
     ]
    }
   ],
   "source": [
    "mean = df['Current_J3'].mean() #media\n",
    "median = df['Current_J3'].median() #mediana\n",
    "mode = df['Current_J3'].mode() #moda\n",
    "skew = df['Current_J3'].skew() #sesgo\n",
    "kurt = df['Current_J3'].kurt() #curtosis\n",
    "\n",
    "#Imprimimos\n",
    "print(\"Media:\", mean)\n",
    "print(\"Mediana:\", median)\n",
    "print(\"Moda:\", mode)\n",
    "print(\"Sesgo:\", skew)\n",
    "print(\"Kurtosis:\", kurt)"
   ]
  },
  {
   "cell_type": "code",
   "execution_count": 21,
   "id": "9f61861f-c7bf-40aa-ae83-287dac1ce1f7",
   "metadata": {},
   "outputs": [
    {
     "name": "stdout",
     "output_type": "stream",
     "text": [
      "Media: 40.93699864038069\n",
      "Mediana: 43.0625\n",
      "Moda: 0    43.125\n",
      "Name: Temperature_J3, dtype: float64\n",
      "Sesgo: -1.1434703938153645\n",
      "Kurtosis: 0.060063423946919325\n"
     ]
    }
   ],
   "source": [
    "mean = df['Temperature_J3'].mean() #media\n",
    "median = df['Temperature_J3'].median() #mediana\n",
    "mode = df['Temperature_J3'].mode() #moda\n",
    "skew = df['Temperature_J3'].skew() #sesgo\n",
    "kurt = df['Temperature_J3'].kurt() #curtosis\n",
    "\n",
    "#Imprimimos\n",
    "print(\"Media:\", mean)\n",
    "print(\"Mediana:\", median)\n",
    "print(\"Moda:\", mode)\n",
    "print(\"Sesgo:\", skew)\n",
    "print(\"Kurtosis:\", kurt)"
   ]
  },
  {
   "cell_type": "code",
   "execution_count": 26,
   "id": "19c55584-5d2c-4e6d-899e-ce79d60a3f45",
   "metadata": {},
   "outputs": [
    {
     "name": "stdout",
     "output_type": "stream",
     "text": [
      "Media: -0.022967840582325677\n",
      "Mediana: -0.012324682436883\n",
      "Moda: 0      -4.738406\n",
      "1      -4.060150\n",
      "2      -4.044099\n",
      "3      -4.036009\n",
      "4      -4.033419\n",
      "          ...   \n",
      "7350    4.065208\n",
      "7351    4.065488\n",
      "7352    4.072007\n",
      "7353    4.073812\n",
      "7354    4.089389\n",
      "Name: Current_J4, Length: 7355, dtype: float64\n",
      "Sesgo: 0.12594053633245933\n",
      "Kurtosis: 14.573289200218909\n"
     ]
    }
   ],
   "source": [
    "mean = df['Current_J4'].mean() #media\n",
    "median = df['Current_J4'].median() #mediana\n",
    "mode = df['Current_J4'].mode() #moda\n",
    "skew = df['Current_J4'].skew() #sesgo\n",
    "kurt = df['Current_J4'].kurt() #curtosis\n",
    "\n",
    "#Imprimimos\n",
    "print(\"Media:\", mean)\n",
    "print(\"Mediana:\", median)\n",
    "print(\"Moda:\", mode)\n",
    "print(\"Sesgo:\", skew)\n",
    "print(\"Kurtosis:\", kurt)"
   ]
  },
  {
   "cell_type": "code",
   "execution_count": 25,
   "id": "6b5863fb-d368-46c2-a7d7-483fd6096d31",
   "metadata": {},
   "outputs": [
    {
     "name": "stdout",
     "output_type": "stream",
     "text": [
      "Media: 42.60516655336506\n",
      "Mediana: 45.0625\n",
      "Moda: 0    45.25\n",
      "Name: Temperature_J4, dtype: float64\n",
      "Sesgo: -1.1710607077735526\n",
      "Kurtosis: 0.14309317401183197\n"
     ]
    }
   ],
   "source": [
    "mean = df['Temperature_J4'].mean() #media\n",
    "median = df['Temperature_J4'].median() #mediana\n",
    "mode = df['Temperature_J4'].mode() #moda\n",
    "skew = df['Temperature_J4'].skew() #sesgo\n",
    "kurt = df['Temperature_J4'].kurt() #curtosis\n",
    "\n",
    "#Imprimimos\n",
    "print(\"Media:\", mean)\n",
    "print(\"Mediana:\", median)\n",
    "print(\"Moda:\", mode)\n",
    "print(\"Sesgo:\", skew)\n",
    "print(\"Kurtosis:\", kurt)"
   ]
  },
  {
   "cell_type": "code",
   "execution_count": 27,
   "id": "91fd9a9a-52bd-403f-87da-f9a880efeadf",
   "metadata": {},
   "outputs": [
    {
     "name": "stdout",
     "output_type": "stream",
     "text": [
      "Media: 0.0009040134333675402\n",
      "Mediana: 0.014496382325888\n",
      "Moda: 0      -0.474556\n",
      "1      -0.454900\n",
      "2      -0.442023\n",
      "3      -0.433048\n",
      "4      -0.422988\n",
      "          ...   \n",
      "7350    0.349057\n",
      "7351    0.353467\n",
      "7352    0.358622\n",
      "7353    0.364147\n",
      "7354    0.392547\n",
      "Name: Current_J5, Length: 7355, dtype: float64\n",
      "Sesgo: -0.13003999178516548\n",
      "Kurtosis: -0.266815492922468\n"
     ]
    }
   ],
   "source": [
    "mean = df['Current_J5'].mean() #media\n",
    "median = df['Current_J5'].median() #mediana\n",
    "mode = df['Current_J5'].mode() #moda\n",
    "skew = df['Current_J5'].skew() #sesgo\n",
    "kurt = df['Current_J5'].kurt() #curtosis\n",
    "\n",
    "#Imprimimos\n",
    "print(\"Media:\", mean)\n",
    "print(\"Mediana:\", median)\n",
    "print(\"Moda:\", mode)\n",
    "print(\"Sesgo:\", skew)\n",
    "print(\"Kurtosis:\", kurt)"
   ]
  },
  {
   "cell_type": "code",
   "execution_count": 30,
   "id": "9776903b-d524-4ed9-a692-49fc30f61991",
   "metadata": {},
   "outputs": [
    {
     "name": "stdout",
     "output_type": "stream",
     "text": [
      "Media: 41.89109449354181\n",
      "Mediana: 44.375\n",
      "Moda: 0    44.5\n",
      "Name: Temperature_J5, dtype: float64\n",
      "Sesgo: -1.085168263667912\n",
      "Kurtosis: -0.14010702996501934\n"
     ]
    }
   ],
   "source": [
    "mean = df['Temperature_J5'].mean() #media\n",
    "median = df['Temperature_J5'].median() #mediana\n",
    "mode = df['Temperature_J5'].mode() #moda\n",
    "skew = df['Temperature_J5'].skew() #sesgo\n",
    "kurt = df['Temperature_J5'].kurt() #curtosis\n",
    "\n",
    "#Imprimimos\n",
    "print(\"Media:\", mean)\n",
    "print(\"Mediana:\", median)\n",
    "print(\"Moda:\", mode)\n",
    "print(\"Sesgo:\", skew)\n",
    "print(\"Kurtosis:\", kurt)"
   ]
  },
  {
   "cell_type": "code",
   "execution_count": 31,
   "id": "51c9fadc-8253-4889-81de-d2c60a00610a",
   "metadata": {},
   "outputs": [
    {
     "name": "stdout",
     "output_type": "stream",
     "text": [
      "Media: 0.0016707168266376288\n",
      "Mediana: 0.0\n",
      "Moda: 0    0.0\n",
      "Name: Speed_J0, dtype: float64\n",
      "Sesgo: 0.20048400329604765\n",
      "Kurtosis: 7.48963080552381\n"
     ]
    }
   ],
   "source": [
    "mean = df['Speed_J0'].mean() #media\n",
    "median = df['Speed_J0'].median() #mediana\n",
    "mode = df['Speed_J0'].mode() #moda\n",
    "skew = df['Speed_J0'].skew() #sesgo\n",
    "kurt = df['Speed_J0'].kurt() #curtosis\n",
    "\n",
    "#Imprimimos\n",
    "print(\"Media:\", mean)\n",
    "print(\"Mediana:\", median)\n",
    "print(\"Moda:\", mode)\n",
    "print(\"Sesgo:\", skew)\n",
    "print(\"Kurtosis:\", kurt)"
   ]
  },
  {
   "cell_type": "code",
   "execution_count": 32,
   "id": "27153e8a-d702-45c4-aef6-8cadca4499dc",
   "metadata": {},
   "outputs": [
    {
     "name": "stdout",
     "output_type": "stream",
     "text": [
      "Media: 6.112906123910418e-05\n",
      "Mediana: 0.0\n",
      "Moda: 0    0.0\n",
      "Name: Speed_J1, dtype: float64\n",
      "Sesgo: 2.0047424686734066\n",
      "Kurtosis: 17.54298032453434\n"
     ]
    }
   ],
   "source": [
    "mean = df['Speed_J1'].mean() #media\n",
    "median = df['Speed_J1'].median() #mediana\n",
    "mode = df['Speed_J1'].mode() #moda\n",
    "skew = df['Speed_J1'].skew() #sesgo\n",
    "kurt = df['Speed_J1'].kurt() #curtosis\n",
    "\n",
    "#Imprimimos\n",
    "print(\"Media:\", mean)\n",
    "print(\"Mediana:\", median)\n",
    "print(\"Moda:\", mode)\n",
    "print(\"Sesgo:\", skew)\n",
    "print(\"Kurtosis:\", kurt)"
   ]
  },
  {
   "cell_type": "code",
   "execution_count": 33,
   "id": "a86d32ac-c345-4b69-b0a0-0309d6b70cb6",
   "metadata": {},
   "outputs": [
    {
     "name": "stdout",
     "output_type": "stream",
     "text": [
      "Media: 0.0037909180870843748\n",
      "Mediana: 0.0\n",
      "Moda: 0    0.0\n",
      "Name: Speed_J2, dtype: float64\n",
      "Sesgo: 0.0839134037087977\n",
      "Kurtosis: 8.758099788320521\n"
     ]
    }
   ],
   "source": [
    "mean = df['Speed_J2'].mean() #media\n",
    "median = df['Speed_J2'].median() #mediana\n",
    "mode = df['Speed_J2'].mode() #moda\n",
    "skew = df['Speed_J2'].skew() #sesgo\n",
    "kurt = df['Speed_J2'].kurt() #curtosis\n",
    "\n",
    "#Imprimimos\n",
    "print(\"Media:\", mean)\n",
    "print(\"Mediana:\", median)\n",
    "print(\"Moda:\", mode)\n",
    "print(\"Sesgo:\", skew)\n",
    "print(\"Kurtosis:\", kurt)"
   ]
  },
  {
   "cell_type": "code",
   "execution_count": 34,
   "id": "9f4f9d78-0c52-4a88-a8b9-6e5b22a26f79",
   "metadata": {},
   "outputs": [
    {
     "name": "stdout",
     "output_type": "stream",
     "text": [
      "Media: -0.004610074676471283\n",
      "Mediana: 0.0\n",
      "Moda: 0    0.0\n",
      "Name: Speed_J3, dtype: float64\n",
      "Sesgo: -0.0027453839685921406\n",
      "Kurtosis: 2.4963544558777375\n"
     ]
    }
   ],
   "source": [
    "mean = df['Speed_J3'].mean() #media\n",
    "median = df['Speed_J3'].median() #mediana\n",
    "mode = df['Speed_J3'].mode() #moda\n",
    "skew = df['Speed_J3'].skew() #sesgo\n",
    "kurt = df['Speed_J3'].kurt() #curtosis\n",
    "\n",
    "#Imprimimos\n",
    "print(\"Media:\", mean)\n",
    "print(\"Mediana:\", median)\n",
    "print(\"Moda:\", mode)\n",
    "print(\"Sesgo:\", skew)\n",
    "print(\"Kurtosis:\", kurt)"
   ]
  },
  {
   "cell_type": "code",
   "execution_count": 35,
   "id": "b2db32ad-f822-4908-a0c0-6e4a4d52629b",
   "metadata": {},
   "outputs": [
    {
     "name": "stdout",
     "output_type": "stream",
     "text": [
      "Media: -0.0008095321344124012\n",
      "Mediana: 0.0\n",
      "Moda: 0    0.0\n",
      "Name: Speed_J4, dtype: float64\n",
      "Sesgo: -0.06596519246555796\n",
      "Kurtosis: 14.355524290758044\n"
     ]
    }
   ],
   "source": [
    "mean = df['Speed_J4'].mean() #media\n",
    "median = df['Speed_J4'].median() #mediana\n",
    "mode = df['Speed_J4'].mode() #moda\n",
    "skew = df['Speed_J4'].skew() #sesgo\n",
    "kurt = df['Speed_J4'].kurt() #curtosis\n",
    "\n",
    "#Imprimimos\n",
    "print(\"Media:\", mean)\n",
    "print(\"Mediana:\", median)\n",
    "print(\"Moda:\", mode)\n",
    "print(\"Sesgo:\", skew)\n",
    "print(\"Kurtosis:\", kurt)"
   ]
  },
  {
   "cell_type": "code",
   "execution_count": 36,
   "id": "7f5b785a-21aa-4992-b85c-7ce2b5822fe1",
   "metadata": {},
   "outputs": [
    {
     "name": "stdout",
     "output_type": "stream",
     "text": [
      "Media: 0.0028802935759752574\n",
      "Mediana: 0.0\n",
      "Moda: 0    0.0\n",
      "Name: Speed_J5, dtype: float64\n",
      "Sesgo: -0.19742090489859798\n",
      "Kurtosis: 4.835196272417975\n"
     ]
    }
   ],
   "source": [
    "mean = df['Speed_J5'].mean() #media\n",
    "median = df['Speed_J5'].median() #mediana\n",
    "mode = df['Speed_J5'].mode() #moda\n",
    "skew = df['Speed_J5'].skew() #sesgo\n",
    "kurt = df['Speed_J5'].kurt() #curtosis\n",
    "\n",
    "#Imprimimos\n",
    "print(\"Media:\", mean)\n",
    "print(\"Mediana:\", median)\n",
    "print(\"Moda:\", mode)\n",
    "print(\"Sesgo:\", skew)\n",
    "print(\"Kurtosis:\", kurt)"
   ]
  },
  {
   "cell_type": "code",
   "execution_count": 37,
   "id": "7c9eac37-70d3-4a50-8242-bfb2ca6ef64d",
   "metadata": {},
   "outputs": [
    {
     "name": "stdout",
     "output_type": "stream",
     "text": [
      "Media: 0.10952737502383982\n",
      "Mediana: 0.08519184589386\n",
      "Moda: 0    0.083239\n",
      "Name: Tool_current, dtype: float64\n",
      "Sesgo: 3.9107558969097598\n",
      "Kurtosis: 15.36518143237387\n"
     ]
    }
   ],
   "source": [
    "mean = df['Tool_current'].mean() #media\n",
    "median = df['Tool_current'].median() #mediana\n",
    "mode = df['Tool_current'].mode() #moda\n",
    "skew = df['Tool_current'].skew() #sesgo\n",
    "kurt = df['Tool_current'].kurt() #curtosis\n",
    "\n",
    "#Imprimimos\n",
    "print(\"Media:\", mean)\n",
    "print(\"Mediana:\", median)\n",
    "print(\"Moda:\", mode)\n",
    "print(\"Sesgo:\", skew)\n",
    "print(\"Kurtosis:\", kurt)"
   ]
  },
  {
   "cell_type": "code",
   "execution_count": 48,
   "id": "869b81fd-56c7-49aa-92db-1eb919821790",
   "metadata": {},
   "outputs": [
    {
     "name": "stdout",
     "output_type": "stream",
     "text": [
      "Media: 141.11324065325954\n",
      "Mediana: 154.0\n",
      "Moda: 0    99\n",
      "Name: cycle , dtype: int64\n",
      "Sesgo: -0.14279087858488254\n",
      "Kurtosis: -1.3615597514997677\n"
     ]
    }
   ],
   "source": [
    "mean = df['cycle '].mean() #media\n",
    "median = df['cycle '].median() #mediana\n",
    "mode = df['cycle '].mode() #moda\n",
    "skew = df['cycle '].skew() #sesgo\n",
    "kurt = df['cycle '].kurt() #curtosis\n",
    "\n",
    "#Imprimimos\n",
    "print(\"Media:\", mean)\n",
    "print(\"Mediana:\", median)\n",
    "print(\"Moda:\", mode)\n",
    "print(\"Sesgo:\", skew)\n",
    "print(\"Kurtosis:\", kurt)"
   ]
  },
  {
   "cell_type": "code",
   "execution_count": 45,
   "id": "bab11339-e053-4030-a450-170998daa537",
   "metadata": {},
   "outputs": [
    {
     "name": "stdout",
     "output_type": "stream",
     "text": [
      "Media: 1.0\n",
      "Mediana: 1.0\n",
      "Moda: 0    1.0\n",
      "Name: Robot_ProtectiveStop, dtype: float64\n",
      "Sesgo: 0.0\n",
      "Kurtosis: 0.0\n"
     ]
    }
   ],
   "source": [
    "mean = df['Robot_ProtectiveStop'].mean() #media\n",
    "median = df['Robot_ProtectiveStop'].median() #mediana\n",
    "mode = df['Robot_ProtectiveStop'].mode() #moda\n",
    "skew = df['Robot_ProtectiveStop'].skew() #sesgo\n",
    "kurt = df['Robot_ProtectiveStop'].kurt() #curtosis\n",
    "\n",
    "#Imprimimos\n",
    "print(\"Media:\", mean)\n",
    "print(\"Mediana:\", median)\n",
    "print(\"Moda:\", mode)\n",
    "print(\"Sesgo:\", skew)\n",
    "print(\"Kurtosis:\", kurt)"
   ]
  },
  {
   "cell_type": "code",
   "execution_count": 43,
   "id": "e64a9bc6-7e60-4110-84e4-57fd3d04d80e",
   "metadata": {},
   "outputs": [
    {
     "name": "stdout",
     "output_type": "stream",
     "text": [
      "Media: 1.0\n",
      "Mediana: 1.0\n",
      "Moda: 0    1.0\n",
      "Name: grip_lost, dtype: float64\n",
      "Sesgo: 0.0\n",
      "Kurtosis: 0.0\n"
     ]
    }
   ],
   "source": [
    "mean = df['grip_lost'].mean() #media\n",
    "median = df['grip_lost'].median() #mediana\n",
    "mode = df['grip_lost'].mode() #moda\n",
    "skew = df['grip_lost'].skew() #sesgo\n",
    "kurt = df['grip_lost'].kurt() #curtosis\n",
    "\n",
    "#Imprimimos\n",
    "print(\"Media:\", mean)\n",
    "print(\"Mediana:\", median)\n",
    "print(\"Moda:\", mode)\n",
    "print(\"Sesgo:\", skew)\n",
    "print(\"Kurtosis:\", kurt)"
   ]
  },
  {
   "cell_type": "markdown",
   "id": "9dd21518-5799-4a80-9d18-1259d62fedd5",
   "metadata": {},
   "source": [
    "Del análisis anterior identificamos ciertas incongruencias en los datos, especificamente en las variables de 'Current_J1', 'Current_J4' y 'Current_J5', donde con los valores arrojados en la moda podemos plantear las siguientes hipótesis:\n",
    "- Datos erróneos.\n",
    "- Distribución de datos anormal.\n",
    "- Presencia de valores atípicos."
   ]
  }
 ],
 "metadata": {
  "kernelspec": {
   "display_name": "Python 3 (ipykernel)",
   "language": "python",
   "name": "python3"
  },
  "language_info": {
   "codemirror_mode": {
    "name": "ipython",
    "version": 3
   },
   "file_extension": ".py",
   "mimetype": "text/x-python",
   "name": "python",
   "nbconvert_exporter": "python",
   "pygments_lexer": "ipython3",
   "version": "3.11.7"
  }
 },
 "nbformat": 4,
 "nbformat_minor": 5
}
