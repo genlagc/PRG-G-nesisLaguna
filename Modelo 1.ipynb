{
 "cells": [
  {
   "cell_type": "markdown",
   "id": "2f54c274-1dff-4716-bde5-644be0adb001",
   "metadata": {},
   "source": [
    "# K-nearest neighbors (KNN)"
   ]
  },
  {
   "cell_type": "code",
   "execution_count": 2,
   "id": "18e90680-9f4f-4674-a190-c567111ce152",
   "metadata": {},
   "outputs": [],
   "source": [
    "import pandas as pd\n",
    "from sklearn.model_selection import train_test_split\n",
    "from sklearn.preprocessing import StandardScaler\n",
    "from sklearn.neighbors import KNeighborsClassifier\n",
    "from sklearn.linear_model import LogisticRegression\n",
    "from sklearn.model_selection import GridSearchCV, RandomizedSearchCV\n",
    "from sklearn.metrics import accuracy_score, precision_score, recall_score, f1_score\n",
    "%matplotlib inline"
   ]
  },
  {
   "cell_type": "code",
   "execution_count": 3,
   "id": "98fa86f5-44f7-44f0-97e1-9be13625a406",
   "metadata": {},
   "outputs": [
    {
     "data": {
      "text/html": [
       "<div>\n",
       "<style scoped>\n",
       "    .dataframe tbody tr th:only-of-type {\n",
       "        vertical-align: middle;\n",
       "    }\n",
       "\n",
       "    .dataframe tbody tr th {\n",
       "        vertical-align: top;\n",
       "    }\n",
       "\n",
       "    .dataframe thead th {\n",
       "        text-align: right;\n",
       "    }\n",
       "</style>\n",
       "<table border=\"1\" class=\"dataframe\">\n",
       "  <thead>\n",
       "    <tr style=\"text-align: right;\">\n",
       "      <th></th>\n",
       "      <th>Current_J0</th>\n",
       "      <th>Temperature_T0</th>\n",
       "      <th>Current_J1</th>\n",
       "      <th>Temperature_J1</th>\n",
       "      <th>Current_J2</th>\n",
       "      <th>Temperature_J2</th>\n",
       "      <th>Current_J3</th>\n",
       "      <th>Temperature_J3</th>\n",
       "      <th>Current_J4</th>\n",
       "      <th>Temperature_J4</th>\n",
       "      <th>Current_J5</th>\n",
       "      <th>Temperature_J5</th>\n",
       "      <th>Speed_J0</th>\n",
       "      <th>Speed_J1</th>\n",
       "      <th>Speed_J2</th>\n",
       "      <th>Speed_J3</th>\n",
       "      <th>Speed_J4</th>\n",
       "      <th>Speed_J5</th>\n",
       "      <th>Tool_current</th>\n",
       "    </tr>\n",
       "  </thead>\n",
       "  <tbody>\n",
       "    <tr>\n",
       "      <th>0</th>\n",
       "      <td>0.109628</td>\n",
       "      <td>27.875</td>\n",
       "      <td>-2.024669</td>\n",
       "      <td>29.3750</td>\n",
       "      <td>-1.531442</td>\n",
       "      <td>29.3750</td>\n",
       "      <td>-0.998570</td>\n",
       "      <td>32.1250</td>\n",
       "      <td>-0.062540</td>\n",
       "      <td>32.2500</td>\n",
       "      <td>-0.152622</td>\n",
       "      <td>32.0000</td>\n",
       "      <td>2.955651e-01</td>\n",
       "      <td>-0.000490</td>\n",
       "      <td>0.001310</td>\n",
       "      <td>-0.132836</td>\n",
       "      <td>-0.007479</td>\n",
       "      <td>-0.152962</td>\n",
       "      <td>0.082732</td>\n",
       "    </tr>\n",
       "    <tr>\n",
       "      <th>1</th>\n",
       "      <td>0.595605</td>\n",
       "      <td>27.875</td>\n",
       "      <td>-2.278456</td>\n",
       "      <td>29.3125</td>\n",
       "      <td>-0.866556</td>\n",
       "      <td>29.4375</td>\n",
       "      <td>-0.206097</td>\n",
       "      <td>32.1875</td>\n",
       "      <td>-1.062762</td>\n",
       "      <td>32.2500</td>\n",
       "      <td>-0.260764</td>\n",
       "      <td>32.0000</td>\n",
       "      <td>-7.390000e-30</td>\n",
       "      <td>-0.000304</td>\n",
       "      <td>0.002185</td>\n",
       "      <td>0.001668</td>\n",
       "      <td>-0.000767</td>\n",
       "      <td>0.000417</td>\n",
       "      <td>0.505895</td>\n",
       "    </tr>\n",
       "    <tr>\n",
       "      <th>2</th>\n",
       "      <td>-0.229474</td>\n",
       "      <td>27.875</td>\n",
       "      <td>-2.800408</td>\n",
       "      <td>29.3125</td>\n",
       "      <td>-2.304336</td>\n",
       "      <td>29.4375</td>\n",
       "      <td>-0.351499</td>\n",
       "      <td>32.1250</td>\n",
       "      <td>-0.668869</td>\n",
       "      <td>32.3125</td>\n",
       "      <td>0.039071</td>\n",
       "      <td>32.0625</td>\n",
       "      <td>1.369386e-01</td>\n",
       "      <td>0.007795</td>\n",
       "      <td>-2.535874</td>\n",
       "      <td>0.379867</td>\n",
       "      <td>0.000455</td>\n",
       "      <td>-0.496856</td>\n",
       "      <td>0.079420</td>\n",
       "    </tr>\n",
       "    <tr>\n",
       "      <th>3</th>\n",
       "      <td>0.065053</td>\n",
       "      <td>27.875</td>\n",
       "      <td>-3.687768</td>\n",
       "      <td>29.3125</td>\n",
       "      <td>-1.217652</td>\n",
       "      <td>29.4375</td>\n",
       "      <td>-1.209115</td>\n",
       "      <td>32.1250</td>\n",
       "      <td>-0.819755</td>\n",
       "      <td>32.2500</td>\n",
       "      <td>0.153903</td>\n",
       "      <td>32.0000</td>\n",
       "      <td>-9.030032e-02</td>\n",
       "      <td>-0.004911</td>\n",
       "      <td>-0.009096</td>\n",
       "      <td>-0.384196</td>\n",
       "      <td>0.018411</td>\n",
       "      <td>0.425559</td>\n",
       "      <td>0.083325</td>\n",
       "    </tr>\n",
       "    <tr>\n",
       "      <th>4</th>\n",
       "      <td>0.884140</td>\n",
       "      <td>27.875</td>\n",
       "      <td>-2.938830</td>\n",
       "      <td>29.3750</td>\n",
       "      <td>-1.794076</td>\n",
       "      <td>29.4375</td>\n",
       "      <td>-2.356471</td>\n",
       "      <td>32.1875</td>\n",
       "      <td>-0.966427</td>\n",
       "      <td>32.3125</td>\n",
       "      <td>0.178998</td>\n",
       "      <td>32.0000</td>\n",
       "      <td>1.268088e-01</td>\n",
       "      <td>0.005567</td>\n",
       "      <td>0.001138</td>\n",
       "      <td>-0.353284</td>\n",
       "      <td>0.014994</td>\n",
       "      <td>0.180989</td>\n",
       "      <td>0.086379</td>\n",
       "    </tr>\n",
       "  </tbody>\n",
       "</table>\n",
       "</div>"
      ],
      "text/plain": [
       "   Current_J0  Temperature_T0  Current_J1  Temperature_J1  Current_J2  \\\n",
       "0    0.109628          27.875   -2.024669         29.3750   -1.531442   \n",
       "1    0.595605          27.875   -2.278456         29.3125   -0.866556   \n",
       "2   -0.229474          27.875   -2.800408         29.3125   -2.304336   \n",
       "3    0.065053          27.875   -3.687768         29.3125   -1.217652   \n",
       "4    0.884140          27.875   -2.938830         29.3750   -1.794076   \n",
       "\n",
       "   Temperature_J2  Current_J3  Temperature_J3  Current_J4  Temperature_J4  \\\n",
       "0         29.3750   -0.998570         32.1250   -0.062540         32.2500   \n",
       "1         29.4375   -0.206097         32.1875   -1.062762         32.2500   \n",
       "2         29.4375   -0.351499         32.1250   -0.668869         32.3125   \n",
       "3         29.4375   -1.209115         32.1250   -0.819755         32.2500   \n",
       "4         29.4375   -2.356471         32.1875   -0.966427         32.3125   \n",
       "\n",
       "   Current_J5  Temperature_J5      Speed_J0  Speed_J1  Speed_J2  Speed_J3  \\\n",
       "0   -0.152622         32.0000  2.955651e-01 -0.000490  0.001310 -0.132836   \n",
       "1   -0.260764         32.0000 -7.390000e-30 -0.000304  0.002185  0.001668   \n",
       "2    0.039071         32.0625  1.369386e-01  0.007795 -2.535874  0.379867   \n",
       "3    0.153903         32.0000 -9.030032e-02 -0.004911 -0.009096 -0.384196   \n",
       "4    0.178998         32.0000  1.268088e-01  0.005567  0.001138 -0.353284   \n",
       "\n",
       "   Speed_J4  Speed_J5  Tool_current  \n",
       "0 -0.007479 -0.152962      0.082732  \n",
       "1 -0.000767  0.000417      0.505895  \n",
       "2  0.000455 -0.496856      0.079420  \n",
       "3  0.018411  0.425559      0.083325  \n",
       "4  0.014994  0.180989      0.086379  "
      ]
     },
     "execution_count": 3,
     "metadata": {},
     "output_type": "execute_result"
    }
   ],
   "source": [
    "#Cargar datos\n",
    "df = pd.read_csv('C:/Users/EQUIPO/Desktop/dataset_02052023.csv')\n",
    "new_variables = ['Current_J0', 'Temperature_T0', 'Current_J1', 'Temperature_J1', 'Current_J2', 'Temperature_J2', 'Current_J3', 'Temperature_J3', 'Current_J4', 'Temperature_J4', 'Current_J5', 'Temperature_J5', 'Speed_J0', 'Speed_J1', 'Speed_J2', 'Speed_J3', 'Speed_J4', 'Speed_J5', 'Tool_current']\n",
    "new_data = df[new_variables]\n",
    "newdf = new_data.drop_duplicates() \n",
    "newdf.head()"
   ]
  },
  {
   "cell_type": "code",
   "execution_count": 18,
   "id": "df965660-1a16-4243-b31c-ecc5c9aa60e8",
   "metadata": {},
   "outputs": [],
   "source": [
    "# Eliminamos las filas con valores nulos\n",
    "df = newdf.drop(index=[814, 948, 977, 1047, 1316, 2090, 2238, 2317, 2393, 2669, 3392, 3441, 3490, 3984, 4106, 4289, 4459, 4677, 4699, 4805, 4822, 4921, 4993, 5223, 5344, 5465, 5587, 5648, 5710, 5778, 5847, 5905, 5969, 6037, 6104, 6292, 6413, 6470, 6528, 6591, 6645, 6697, 6763, 6819, 6937, 6993, 7040, 7091, 7137, 7188, 7250, 7306, 7366 ])"
   ]
  },
  {
   "cell_type": "code",
   "execution_count": 10,
   "id": "ee1778f6-ab39-4246-9035-b29db90db535",
   "metadata": {},
   "outputs": [
    {
     "name": "stdout",
     "output_type": "stream",
     "text": [
      "Index(['Current_J0', 'Temperature_T0', 'Current_J1', 'Temperature_J1',\n",
      "       'Current_J2', 'Temperature_J2', 'Current_J3', 'Temperature_J3',\n",
      "       'Current_J4', 'Temperature_J4', 'Current_J5', 'Temperature_J5',\n",
      "       'Speed_J0', 'Speed_J1', 'Speed_J2', 'Speed_J3', 'Speed_J4', 'Speed_J5',\n",
      "       'Tool_current'],\n",
      "      dtype='object')\n"
     ]
    },
    {
     "name": "stderr",
     "output_type": "stream",
     "text": [
      "C:\\Users\\EQUIPO\\AppData\\Local\\Temp\\ipykernel_18540\\4170565680.py:5: SettingWithCopyWarning: \n",
      "A value is trying to be set on a copy of a slice from a DataFrame\n",
      "\n",
      "See the caveats in the documentation: https://pandas.pydata.org/pandas-docs/stable/user_guide/indexing.html#returning-a-view-versus-a-copy\n",
      "  newdf.rename(columns={\"clase\": \"class\"}, inplace=True)\n"
     ]
    }
   ],
   "source": [
    "# Verificar el nombre de la columna\n",
    "print(newdf.columns)\n",
    "\n",
    "# Renombrar la columna\n",
    "newdf.rename(columns={\"clase\": \"class\"}, inplace=True)"
   ]
  },
  {
   "cell_type": "code",
   "execution_count": 9,
   "id": "16d26c1f-b9c1-4b35-ac91-9e1e9131d6b4",
   "metadata": {},
   "outputs": [],
   "source": [
    "X = df.drop('Current_J0', axis=1)\n",
    "y = df['Current_J0']"
   ]
  },
  {
   "cell_type": "code",
   "execution_count": 11,
   "id": "8f38f278-6cef-47e4-a0c0-a0fd183cce8b",
   "metadata": {},
   "outputs": [],
   "source": [
    "# Inicializar Scaler\n",
    "scaler = StandardScaler()\n",
    "X_scaled = scaler.fit_transform(X)"
   ]
  },
  {
   "cell_type": "code",
   "execution_count": 12,
   "id": "929706be-6f32-43ac-9f7a-f287485ebc81",
   "metadata": {},
   "outputs": [],
   "source": [
    "# Inicializar variables dependientes e independientes\n",
    "X_train, X_test, y_train, y_test = train_test_split(X_scaled, y, test_size=0.2, random_state=42)"
   ]
  },
  {
   "cell_type": "code",
   "execution_count": 13,
   "id": "8b6235df-6980-4d95-aba4-d8b629446967",
   "metadata": {},
   "outputs": [],
   "source": [
    "# Inicializar modelo y algoritmo de regresión\n",
    "knn = KNeighborsClassifier()\n",
    "lr = LogisticRegression()"
   ]
  },
  {
   "cell_type": "code",
   "execution_count": 17,
   "id": "a6d4d203-3963-4f22-9933-b61a7d1e0bdd",
   "metadata": {},
   "outputs": [
    {
     "name": "stderr",
     "output_type": "stream",
     "text": [
      "C:\\Users\\EQUIPO\\anaconda3\\Lib\\site-packages\\sklearn\\utils\\multiclass.py:380: RuntimeWarning: invalid value encountered in cast\n",
      "  if xp.any(data != data.astype(int)):\n"
     ]
    },
    {
     "ename": "ValueError",
     "evalue": "Input y contains NaN.",
     "output_type": "error",
     "traceback": [
      "\u001b[1;31m---------------------------------------------------------------------------\u001b[0m",
      "\u001b[1;31mValueError\u001b[0m                                Traceback (most recent call last)",
      "Cell \u001b[1;32mIn[17], line 9\u001b[0m\n\u001b[0;32m      2\u001b[0m param_grid_knn \u001b[38;5;241m=\u001b[39m {\n\u001b[0;32m      3\u001b[0m     \u001b[38;5;124m\"\u001b[39m\u001b[38;5;124mn_neighbors\u001b[39m\u001b[38;5;124m\"\u001b[39m: [\u001b[38;5;241m5\u001b[39m, \u001b[38;5;241m10\u001b[39m, \u001b[38;5;241m15\u001b[39m, \u001b[38;5;241m20\u001b[39m],\n\u001b[0;32m      4\u001b[0m     \u001b[38;5;124m\"\u001b[39m\u001b[38;5;124malgorithm\u001b[39m\u001b[38;5;124m\"\u001b[39m: [\u001b[38;5;124m\"\u001b[39m\u001b[38;5;124mauto\u001b[39m\u001b[38;5;124m\"\u001b[39m, \u001b[38;5;124m\"\u001b[39m\u001b[38;5;124mball_tree\u001b[39m\u001b[38;5;124m\"\u001b[39m, \u001b[38;5;124m\"\u001b[39m\u001b[38;5;124mkd_tree\u001b[39m\u001b[38;5;124m\"\u001b[39m],\n\u001b[0;32m      5\u001b[0m     \u001b[38;5;124m\"\u001b[39m\u001b[38;5;124mp\u001b[39m\u001b[38;5;124m\"\u001b[39m: [\u001b[38;5;241m1\u001b[39m, \u001b[38;5;241m2\u001b[39m, \u001b[38;5;241m3\u001b[39m]\n\u001b[0;32m      6\u001b[0m }\n\u001b[0;32m      8\u001b[0m gs_knn \u001b[38;5;241m=\u001b[39m GridSearchCV(knn, param_grid_knn, cv\u001b[38;5;241m=\u001b[39m\u001b[38;5;241m5\u001b[39m, scoring\u001b[38;5;241m=\u001b[39m\u001b[38;5;124m\"\u001b[39m\u001b[38;5;124maccuracy\u001b[39m\u001b[38;5;124m\"\u001b[39m)\n\u001b[1;32m----> 9\u001b[0m gs_knn\u001b[38;5;241m.\u001b[39mfit(X_train, y_train)\n\u001b[0;32m     11\u001b[0m \u001b[38;5;66;03m# Búsqueda de hiperparámetros para regresión logística\u001b[39;00m\n\u001b[0;32m     12\u001b[0m param_grid_lr \u001b[38;5;241m=\u001b[39m {\n\u001b[0;32m     13\u001b[0m     \u001b[38;5;124m\"\u001b[39m\u001b[38;5;124mC\u001b[39m\u001b[38;5;124m\"\u001b[39m: [\u001b[38;5;241m0.01\u001b[39m, \u001b[38;5;241m0.1\u001b[39m, \u001b[38;5;241m1\u001b[39m, \u001b[38;5;241m10\u001b[39m, \u001b[38;5;241m100\u001b[39m],\n\u001b[0;32m     14\u001b[0m     \u001b[38;5;124m\"\u001b[39m\u001b[38;5;124msolver\u001b[39m\u001b[38;5;124m\"\u001b[39m: [\u001b[38;5;124m\"\u001b[39m\u001b[38;5;124mlbfgs\u001b[39m\u001b[38;5;124m\"\u001b[39m, \u001b[38;5;124m\"\u001b[39m\u001b[38;5;124msag\u001b[39m\u001b[38;5;124m\"\u001b[39m, \u001b[38;5;124m\"\u001b[39m\u001b[38;5;124msaga\u001b[39m\u001b[38;5;124m\"\u001b[39m]\n\u001b[0;32m     15\u001b[0m }\n",
      "File \u001b[1;32m~\\anaconda3\\Lib\\site-packages\\sklearn\\model_selection\\_search.py:785\u001b[0m, in \u001b[0;36mBaseSearchCV.fit\u001b[1;34m(self, X, y, groups, **fit_params)\u001b[0m\n\u001b[0;32m    782\u001b[0m X, y, groups \u001b[38;5;241m=\u001b[39m indexable(X, y, groups)\n\u001b[0;32m    783\u001b[0m fit_params \u001b[38;5;241m=\u001b[39m _check_fit_params(X, fit_params)\n\u001b[1;32m--> 785\u001b[0m cv_orig \u001b[38;5;241m=\u001b[39m check_cv(\u001b[38;5;28mself\u001b[39m\u001b[38;5;241m.\u001b[39mcv, y, classifier\u001b[38;5;241m=\u001b[39mis_classifier(estimator))\n\u001b[0;32m    786\u001b[0m n_splits \u001b[38;5;241m=\u001b[39m cv_orig\u001b[38;5;241m.\u001b[39mget_n_splits(X, y, groups)\n\u001b[0;32m    788\u001b[0m base_estimator \u001b[38;5;241m=\u001b[39m clone(\u001b[38;5;28mself\u001b[39m\u001b[38;5;241m.\u001b[39mestimator)\n",
      "File \u001b[1;32m~\\anaconda3\\Lib\\site-packages\\sklearn\\model_selection\\_split.py:2445\u001b[0m, in \u001b[0;36mcheck_cv\u001b[1;34m(cv, y, classifier)\u001b[0m\n\u001b[0;32m   2440\u001b[0m cv \u001b[38;5;241m=\u001b[39m \u001b[38;5;241m5\u001b[39m \u001b[38;5;28;01mif\u001b[39;00m cv \u001b[38;5;129;01mis\u001b[39;00m \u001b[38;5;28;01mNone\u001b[39;00m \u001b[38;5;28;01melse\u001b[39;00m cv\n\u001b[0;32m   2441\u001b[0m \u001b[38;5;28;01mif\u001b[39;00m \u001b[38;5;28misinstance\u001b[39m(cv, numbers\u001b[38;5;241m.\u001b[39mIntegral):\n\u001b[0;32m   2442\u001b[0m     \u001b[38;5;28;01mif\u001b[39;00m (\n\u001b[0;32m   2443\u001b[0m         classifier\n\u001b[0;32m   2444\u001b[0m         \u001b[38;5;129;01mand\u001b[39;00m (y \u001b[38;5;129;01mis\u001b[39;00m \u001b[38;5;129;01mnot\u001b[39;00m \u001b[38;5;28;01mNone\u001b[39;00m)\n\u001b[1;32m-> 2445\u001b[0m         \u001b[38;5;129;01mand\u001b[39;00m (type_of_target(y, input_name\u001b[38;5;241m=\u001b[39m\u001b[38;5;124m\"\u001b[39m\u001b[38;5;124my\u001b[39m\u001b[38;5;124m\"\u001b[39m) \u001b[38;5;129;01min\u001b[39;00m (\u001b[38;5;124m\"\u001b[39m\u001b[38;5;124mbinary\u001b[39m\u001b[38;5;124m\"\u001b[39m, \u001b[38;5;124m\"\u001b[39m\u001b[38;5;124mmulticlass\u001b[39m\u001b[38;5;124m\"\u001b[39m))\n\u001b[0;32m   2446\u001b[0m     ):\n\u001b[0;32m   2447\u001b[0m         \u001b[38;5;28;01mreturn\u001b[39;00m StratifiedKFold(cv)\n\u001b[0;32m   2448\u001b[0m     \u001b[38;5;28;01melse\u001b[39;00m:\n",
      "File \u001b[1;32m~\\anaconda3\\Lib\\site-packages\\sklearn\\utils\\multiclass.py:381\u001b[0m, in \u001b[0;36mtype_of_target\u001b[1;34m(y, input_name)\u001b[0m\n\u001b[0;32m    379\u001b[0m     data \u001b[38;5;241m=\u001b[39m y\u001b[38;5;241m.\u001b[39mdata \u001b[38;5;28;01mif\u001b[39;00m issparse(y) \u001b[38;5;28;01melse\u001b[39;00m y\n\u001b[0;32m    380\u001b[0m     \u001b[38;5;28;01mif\u001b[39;00m xp\u001b[38;5;241m.\u001b[39many(data \u001b[38;5;241m!=\u001b[39m data\u001b[38;5;241m.\u001b[39mastype(\u001b[38;5;28mint\u001b[39m)):\n\u001b[1;32m--> 381\u001b[0m         _assert_all_finite(data, input_name\u001b[38;5;241m=\u001b[39minput_name)\n\u001b[0;32m    382\u001b[0m         \u001b[38;5;28;01mreturn\u001b[39;00m \u001b[38;5;124m\"\u001b[39m\u001b[38;5;124mcontinuous\u001b[39m\u001b[38;5;124m\"\u001b[39m \u001b[38;5;241m+\u001b[39m suffix\n\u001b[0;32m    384\u001b[0m \u001b[38;5;66;03m# Check multiclass\u001b[39;00m\n",
      "File \u001b[1;32m~\\anaconda3\\Lib\\site-packages\\sklearn\\utils\\validation.py:161\u001b[0m, in \u001b[0;36m_assert_all_finite\u001b[1;34m(X, allow_nan, msg_dtype, estimator_name, input_name)\u001b[0m\n\u001b[0;32m    144\u001b[0m \u001b[38;5;28;01mif\u001b[39;00m estimator_name \u001b[38;5;129;01mand\u001b[39;00m input_name \u001b[38;5;241m==\u001b[39m \u001b[38;5;124m\"\u001b[39m\u001b[38;5;124mX\u001b[39m\u001b[38;5;124m\"\u001b[39m \u001b[38;5;129;01mand\u001b[39;00m has_nan_error:\n\u001b[0;32m    145\u001b[0m     \u001b[38;5;66;03m# Improve the error message on how to handle missing values in\u001b[39;00m\n\u001b[0;32m    146\u001b[0m     \u001b[38;5;66;03m# scikit-learn.\u001b[39;00m\n\u001b[0;32m    147\u001b[0m     msg_err \u001b[38;5;241m+\u001b[39m\u001b[38;5;241m=\u001b[39m (\n\u001b[0;32m    148\u001b[0m         \u001b[38;5;124mf\u001b[39m\u001b[38;5;124m\"\u001b[39m\u001b[38;5;130;01m\\n\u001b[39;00m\u001b[38;5;132;01m{\u001b[39;00mestimator_name\u001b[38;5;132;01m}\u001b[39;00m\u001b[38;5;124m does not accept missing values\u001b[39m\u001b[38;5;124m\"\u001b[39m\n\u001b[0;32m    149\u001b[0m         \u001b[38;5;124m\"\u001b[39m\u001b[38;5;124m encoded as NaN natively. For supervised learning, you might want\u001b[39m\u001b[38;5;124m\"\u001b[39m\n\u001b[1;32m   (...)\u001b[0m\n\u001b[0;32m    159\u001b[0m         \u001b[38;5;124m\"\u001b[39m\u001b[38;5;124m#estimators-that-handle-nan-values\u001b[39m\u001b[38;5;124m\"\u001b[39m\n\u001b[0;32m    160\u001b[0m     )\n\u001b[1;32m--> 161\u001b[0m \u001b[38;5;28;01mraise\u001b[39;00m \u001b[38;5;167;01mValueError\u001b[39;00m(msg_err)\n",
      "\u001b[1;31mValueError\u001b[0m: Input y contains NaN."
     ]
    }
   ],
   "source": [
    "# Búsqueda de hiperparámetros para KNN\n",
    "param_grid_knn = {\n",
    "    \"n_neighbors\": [5, 10, 15, 20],\n",
    "    \"algorithm\": [\"auto\", \"ball_tree\", \"kd_tree\"],\n",
    "    \"p\": [1, 2, 3]\n",
    "}\n",
    "\n",
    "gs_knn = GridSearchCV(knn, param_grid_knn, cv=5, scoring=\"accuracy\")\n",
    "gs_knn.fit(X_train, y_train)\n",
    "\n",
    "# Búsqueda de hiperparámetros para regresión logística\n",
    "param_grid_lr = {\n",
    "    \"C\": [0.01, 0.1, 1, 10, 100],\n",
    "    \"solver\": [\"lbfgs\", \"sag\", \"saga\"]\n",
    "}\n",
    "\n",
    "gs_lr = GridSearchCV(lr, param_grid_lr, cv=5, scoring=\"accuracy\")\n",
    "gs_lr.fit(X_train, y_train)"
   ]
  },
  {
   "cell_type": "code",
   "execution_count": 10,
   "id": "39634b57-5045-4cd7-81ad-ad56cffc31f9",
   "metadata": {},
   "outputs": [
    {
     "name": "stdout",
     "output_type": "stream",
     "text": [
      "KNN:\n"
     ]
    },
    {
     "ename": "AttributeError",
     "evalue": "'GridSearchCV' object has no attribute 'best_params_'",
     "output_type": "error",
     "traceback": [
      "\u001b[1;31m---------------------------------------------------------------------------\u001b[0m",
      "\u001b[1;31mAttributeError\u001b[0m                            Traceback (most recent call last)",
      "Cell \u001b[1;32mIn[10], line 3\u001b[0m\n\u001b[0;32m      1\u001b[0m \u001b[38;5;66;03m# Evaluación del modelo KNN con los mejores hiperparámetros\u001b[39;00m\n\u001b[0;32m      2\u001b[0m \u001b[38;5;28mprint\u001b[39m(\u001b[38;5;124m\"\u001b[39m\u001b[38;5;124mKNN:\u001b[39m\u001b[38;5;124m\"\u001b[39m)\n\u001b[1;32m----> 3\u001b[0m \u001b[38;5;28mprint\u001b[39m(\u001b[38;5;124mf\u001b[39m\u001b[38;5;124m\"\u001b[39m\u001b[38;5;124mMejores parámetros: \u001b[39m\u001b[38;5;132;01m{\u001b[39;00mgs_knn\u001b[38;5;241m.\u001b[39mbest_params_\u001b[38;5;132;01m}\u001b[39;00m\u001b[38;5;124m\"\u001b[39m)\n\u001b[0;32m      4\u001b[0m y_pred_knn \u001b[38;5;241m=\u001b[39m gs_knn\u001b[38;5;241m.\u001b[39mpredict(X_test)\n\u001b[0;32m      5\u001b[0m \u001b[38;5;28mprint\u001b[39m(\u001b[38;5;124mf\u001b[39m\u001b[38;5;124m\"\u001b[39m\u001b[38;5;124mPrecisión: \u001b[39m\u001b[38;5;132;01m{\u001b[39;00maccuracy_score(y_test,\u001b[38;5;250m \u001b[39my_pred_knn)\u001b[38;5;132;01m}\u001b[39;00m\u001b[38;5;124m\"\u001b[39m)\n",
      "\u001b[1;31mAttributeError\u001b[0m: 'GridSearchCV' object has no attribute 'best_params_'"
     ]
    }
   ],
   "source": [
    "# Evaluación KNN\n",
    "print(\"KNN:\")\n",
    "print(f\"Mejores parámetros: {gs_knn.best_params_}\")\n",
    "y_pred_knn = gs_knn.predict(X_test)\n",
    "print(f\"Precisión: {accuracy_score(y_test, y_pred_knn)}\")\n",
    "print(f\"Precisión: {precision_score(y_test, y_pred_knn)}\")\n",
    "print(f\"Recuperación: {recall_score(y_test, y_pred_knn)}\")\n",
    "print(f\"Puntaje F1: {f1_score(y_test, y_pred_knn)}\")\n",
    "\n",
    "# Modelo de regresión logística\n",
    "print(\"\\nRegresión logística:\")\n",
    "print(f\"Mejores parámetros: {gs_lr.best_params_}\")\n",
    "y_pred_lr = gs_lr.predict(X_test)\n",
    "print(f\"Precisión: {accuracy_score(y_test, y_pred_lr)}\")\n",
    "print(f\"Precisión: {precision_score(y_test, y_pred_lr)}\")\n",
    "print(f\"Recuperación: {recall_score(y_test, y_pred_lr)}\")\n",
    "print(f\"Puntaje F1: {f1_score(y_test, y_pred_lr)}\")"
   ]
  }
 ],
 "metadata": {
  "kernelspec": {
   "display_name": "Python 3 (ipykernel)",
   "language": "python",
   "name": "python3"
  },
  "language_info": {
   "codemirror_mode": {
    "name": "ipython",
    "version": 3
   },
   "file_extension": ".py",
   "mimetype": "text/x-python",
   "name": "python",
   "nbconvert_exporter": "python",
   "pygments_lexer": "ipython3",
   "version": "3.11.7"
  }
 },
 "nbformat": 4,
 "nbformat_minor": 5
}
